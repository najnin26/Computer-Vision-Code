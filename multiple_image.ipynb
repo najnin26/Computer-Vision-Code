{
 "cells": [
  {
   "cell_type": "code",
   "execution_count": 1,
   "id": "c5c99159",
   "metadata": {},
   "outputs": [],
   "source": [
    "import cv2\n",
    "import numpy as np"
   ]
  },
  {
   "cell_type": "code",
   "execution_count": 2,
   "id": "0bc462e7",
   "metadata": {},
   "outputs": [],
   "source": [
    "img=cv2.imread(r\"F:\\CV\\Code\\Data\\avengers.jpg\")\n",
    "img=cv2.resize(img, (500,300))\n",
    "cv2.imshow('img', img)\n",
    "\n",
    "cv2.waitKey(0)\n",
    "cv2.destroyAllWindows()"
   ]
  },
  {
   "cell_type": "code",
   "execution_count": 3,
   "id": "bf54ab5c",
   "metadata": {},
   "outputs": [
    {
     "name": "stdout",
     "output_type": "stream",
     "text": [
      "[[[ 28  28  28]\n",
      "  [ 25  23  23]\n",
      "  [ 28  23  24]\n",
      "  ...\n",
      "  [ 37  33  38]\n",
      "  [ 38  35  40]\n",
      "  [ 38  34  39]]\n",
      "\n",
      " [[ 21  21  21]\n",
      "  [ 26  24  24]\n",
      "  [ 24  19  20]\n",
      "  ...\n",
      "  [ 33  29  34]\n",
      "  [ 37  33  38]\n",
      "  [ 31  27  32]]\n",
      "\n",
      " [[ 18  18  18]\n",
      "  [ 19  17  17]\n",
      "  [ 23  18  19]\n",
      "  ...\n",
      "  [ 33  29  34]\n",
      "  [ 31  26  32]\n",
      "  [ 33  29  34]]\n",
      "\n",
      " ...\n",
      "\n",
      " [[ 54  89 198]\n",
      "  [ 59  93 215]\n",
      "  [ 76 135 243]\n",
      "  ...\n",
      "  [ 52 101 202]\n",
      "  [ 61 108 205]\n",
      "  [ 71 119 198]]\n",
      "\n",
      " [[ 48  92 207]\n",
      "  [ 66 119 234]\n",
      "  [ 86 157 255]\n",
      "  ...\n",
      "  [ 53 104 211]\n",
      "  [ 63 117 212]\n",
      "  [ 76 131 212]]\n",
      "\n",
      " [[ 82 106 193]\n",
      "  [104 145 223]\n",
      "  [118 175 236]\n",
      "  ...\n",
      "  [ 86 122 194]\n",
      "  [ 96 138 200]\n",
      "  [106 146 205]]]\n"
     ]
    }
   ],
   "source": [
    "print(img)"
   ]
  },
  {
   "cell_type": "code",
   "execution_count": 8,
   "id": "f0e4ba8f",
   "metadata": {},
   "outputs": [],
   "source": [
    "img=cv2.imread(r\"F:\\CV\\Code\\Data\\lady.jpg\")\n",
    "img=cv2.resize(img, (300,300))\n",
    "h=np.hstack((img,img))\n",
    "v=np.vstack((img,img))\n",
    "v1=np.vstack((h,h))\n",
    "cv2.imshow('img', h)\n",
    "cv2.imshow('img1',v)\n",
    "cv2.imshow('mul',v1)\n",
    "cv2.waitKey(0)\n",
    "cv2.destroyAllWindows()"
   ]
  },
  {
   "cell_type": "code",
   "execution_count": null,
   "id": "cff6b050",
   "metadata": {},
   "outputs": [],
   "source": []
  }
 ],
 "metadata": {
  "kernelspec": {
   "display_name": "Python 3 (ipykernel)",
   "language": "python",
   "name": "python3"
  },
  "language_info": {
   "codemirror_mode": {
    "name": "ipython",
    "version": 3
   },
   "file_extension": ".py",
   "mimetype": "text/x-python",
   "name": "python",
   "nbconvert_exporter": "python",
   "pygments_lexer": "ipython3",
   "version": "3.11.5"
  }
 },
 "nbformat": 4,
 "nbformat_minor": 5
}
