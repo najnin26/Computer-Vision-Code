{
 "cells": [
  {
   "cell_type": "code",
   "execution_count": 5,
   "id": "0aec86e6",
   "metadata": {},
   "outputs": [],
   "source": [
    "import cv2\n",
    "import numpy as np\n",
    "import os"
   ]
  },
  {
   "cell_type": "code",
   "execution_count": 6,
   "id": "9cba3121",
   "metadata": {},
   "outputs": [],
   "source": [
    "list_name=os.listdir('F:\\\\CV\\\\Code\\\\Data\\\\slide')"
   ]
  },
  {
   "cell_type": "code",
   "execution_count": 7,
   "id": "bc9190d4",
   "metadata": {},
   "outputs": [
    {
     "data": {
      "text/plain": [
       "['hero1.jpg',\n",
       " 'hero2.jpg',\n",
       " 'ironman.jpg',\n",
       " 'roi_opr.jpg',\n",
       " 'strom_breaker.JPG',\n",
       " 'thor.jpg']"
      ]
     },
     "execution_count": 7,
     "metadata": {},
     "output_type": "execute_result"
    }
   ],
   "source": [
    "list_name"
   ]
  },
  {
   "cell_type": "code",
   "execution_count": null,
   "id": "2f2b69b7",
   "metadata": {},
   "outputs": [],
   "source": [
    "for i in list_name:\n",
    "    path=\"F:\\\\CV\\\\Code\\\\Data\\\\slide\"\n",
    "    img_name=path+\"\\\\\"+i\n",
    "    img=cv2.imread(img_name)\n",
    "    img=cv2.resize(img,(500,300))\n",
    "    cv2.imshow(\"img\",img)\n",
    "    cv2.waitKey(0)\n",
    "    \n",
    "cv2.destroyAllWindows()"
   ]
  },
  {
   "cell_type": "code",
   "execution_count": null,
   "id": "7ebc804e",
   "metadata": {},
   "outputs": [],
   "source": []
  }
 ],
 "metadata": {
  "kernelspec": {
   "display_name": "Python 3 (ipykernel)",
   "language": "python",
   "name": "python3"
  },
  "language_info": {
   "codemirror_mode": {
    "name": "ipython",
    "version": 3
   },
   "file_extension": ".py",
   "mimetype": "text/x-python",
   "name": "python",
   "nbconvert_exporter": "python",
   "pygments_lexer": "ipython3",
   "version": "3.11.5"
  }
 },
 "nbformat": 4,
 "nbformat_minor": 5
}
