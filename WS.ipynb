{
 "cells": [
  {
   "cell_type": "code",
   "execution_count": 1,
   "id": "abdd0e4a",
   "metadata": {},
   "outputs": [],
   "source": [
    "import cv2\n",
    "import numpy as np"
   ]
  },
  {
   "cell_type": "code",
   "execution_count": 2,
   "id": "229ac43c",
   "metadata": {},
   "outputs": [],
   "source": [
    "# Slow and Fast Motion Video \n",
    "cap=cv2.VideoCapture(\"F:\\CV\\Code\\Data\\dog.mp4\")\n",
    "while cap.isOpened():\n",
    "    rat,frame=cap.read()\n",
    "    frame=cv2.resize(frame,(500,500))\n",
    "    if rat==True:\n",
    "        cv2.imshow(\"Frame\",frame)\n",
    "        if cv2.waitKey(20) & 0xff == ord(\"p\"):\n",
    "            break\n",
    "    else:\n",
    "        break\n",
    "\n",
    "cap.release()\n",
    "cv2.destroyAllWindows()"
   ]
  },
  {
   "cell_type": "code",
   "execution_count": 12,
   "id": "d6b131b3",
   "metadata": {},
   "outputs": [],
   "source": [
    "#errossion and dialation\n",
    "img=cv2.imread(\"F:\\CV\\Code\\Data\\mor.png\")\n",
    "img=cv2.resize(img,(300,300))\n",
    "m=np.ones((5,5),np.uint8)\n",
    "er=cv2.erode(img,m,iterations=1)\n",
    "di=cv2.dilate(img,m,iterations=1)\n",
    "cv2.imshow(\"Img\",img)\n",
    "cv2.imshow(\"Erossion\",er)\n",
    "cv2.imshow(\"Dialation\",di)\n",
    "cv2.waitKey(0)\n",
    "cv2.destroyAllWindows()"
   ]
  },
  {
   "cell_type": "code",
   "execution_count": null,
   "id": "99a5a278",
   "metadata": {},
   "outputs": [],
   "source": []
  }
 ],
 "metadata": {
  "kernelspec": {
   "display_name": "Python 3 (ipykernel)",
   "language": "python",
   "name": "python3"
  },
  "language_info": {
   "codemirror_mode": {
    "name": "ipython",
    "version": 3
   },
   "file_extension": ".py",
   "mimetype": "text/x-python",
   "name": "python",
   "nbconvert_exporter": "python",
   "pygments_lexer": "ipython3",
   "version": "3.11.5"
  }
 },
 "nbformat": 4,
 "nbformat_minor": 5
}
